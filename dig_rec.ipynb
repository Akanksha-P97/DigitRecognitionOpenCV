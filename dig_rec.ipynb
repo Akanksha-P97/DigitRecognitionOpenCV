{
 "cells": [
  {
   "cell_type": "code",
   "execution_count": 15,
   "metadata": {},
   "outputs": [],
   "source": [
    "import tkinter  \n",
    "import tkinter.filedialog\n",
    "root = tkinter.Tk()\n",
    "z=\"\"\n",
    "def print_path():  \n",
    "    global z\n",
    "    f = tkinter.filedialog.askopenfilename(\n",
    "        parent=root, initialdir=r'C:\\Users\\PRATYUSH\\Desktop\\ml\\handwritten-MNIST-digit-recognition',\n",
    "        title='Choose file',\n",
    "        filetypes=[('jpeg images', '.jpg'),\n",
    "                   ('gif images', '.gif')]\n",
    "        )\n",
    "    z=f\n",
    "    \n",
    "b1 = tkinter.Button(root, text='open and save path and display image', command=print_path)  \n",
    "b1.pack(fill='x')\n",
    " \n",
    "root.mainloop() "
   ]
  },
  {
   "cell_type": "code",
   "execution_count": 16,
   "metadata": {},
   "outputs": [],
   "source": [
    "# Import the modules\n",
    "import cv2\n",
    "from sklearn.externals import joblib\n",
    "from skimage.feature import hog\n",
    "import numpy as np"
   ]
  },
  {
   "cell_type": "code",
   "execution_count": 17,
   "metadata": {},
   "outputs": [],
   "source": [
    "# Load the classifier\n",
    "clf,pp = joblib.load(\"digits_cls1.pkl\")"
   ]
  },
  {
   "cell_type": "code",
   "execution_count": 19,
   "metadata": {},
   "outputs": [],
   "source": [
    "# Read the input image \n",
    "im = cv2.imread(z)\n",
    "r = 3000.0 / im.shape[1]\n",
    "dim = (4000, int(im.shape[0] * r))\n",
    "str1=\" \"\n",
    "# perform the actual resizing of the image and show it\n",
    "im = cv2.resize(im, dim, interpolation = cv2.INTER_AREA)"
   ]
  },
  {
   "cell_type": "code",
   "execution_count": 20,
   "metadata": {},
   "outputs": [],
   "source": [
    "# Convert to grayscale and apply Gaussian filtering\n",
    "im_gray = cv2.cvtColor(im, cv2.COLOR_BGR2GRAY)\n",
    "im_gray = cv2.GaussianBlur(im_gray, (5, 5), 0)"
   ]
  },
  {
   "cell_type": "code",
   "execution_count": 21,
   "metadata": {},
   "outputs": [],
   "source": [
    "# Threshold the image\n",
    "ret, im_th = cv2.threshold(im_gray, 90, 255, cv2.THRESH_BINARY_INV)\n",
    "# Find contours in the image\n",
    "ctrs, hier = cv2.findContours(im_th.copy(), cv2.RETR_EXTERNAL, cv2.CHAIN_APPROX_SIMPLE)"
   ]
  },
  {
   "cell_type": "code",
   "execution_count": 22,
   "metadata": {},
   "outputs": [],
   "source": [
    "# Get rectangles contains each contour\n",
    "rects = [cv2.boundingRect(ctr) for ctr in ctrs]"
   ]
  },
  {
   "cell_type": "code",
   "execution_count": 23,
   "metadata": {
    "scrolled": true
   },
   "outputs": [
    {
     "name": "stdout",
     "output_type": "stream",
     "text": [
      "6\n",
      "7\n",
      "5\n",
      "4\n",
      "3\n",
      "1\n",
      "2\n"
     ]
    }
   ],
   "source": [
    "for rect in rects:\n",
    "    if rect[2] >30 and rect[3] >30:\n",
    "        \n",
    "        # Draw the rectangles\n",
    "        cv2.rectangle(im, (rect[0], rect[1]), (rect[0] + rect[2], rect[1] + rect[3]), (0, 255, 0), 3) \n",
    "        # Make the rectangular region around the digit\n",
    "        leng = int(rect[3] * 1.6)\n",
    "        pt1 = int(rect[1] + rect[3] // 2 - leng // 2)\n",
    "        pt2 = int(rect[0] + rect[2] // 2 - leng // 2)\n",
    "        roi = im_th[pt1:pt1+leng, pt2:pt2+leng]\n",
    "        # Resize the image\n",
    "        roi = cv2.resize(roi, (28, 28), interpolation=cv2.INTER_AREA)\n",
    "        roi = cv2.dilate(roi, (3, 3))\n",
    "        # Calculate the HOG features\n",
    "        roi_hog_fd = hog(roi, orientations=9, pixels_per_cell=(14, 14), cells_per_block=(1, 1), visualize=False)\n",
    "        roi_hog_fd = pp.transform(np.array([roi_hog_fd], 'float64'))\n",
    "        # Pridict digits\n",
    "        nbr = clf.predict(roi_hog_fd)\n",
    "        \n",
    "        cv2.putText(im, str(int(nbr[0])), (rect[0], rect[1]),cv2.FONT_HERSHEY_DUPLEX, 2, (0, 255, 255), 3)\n",
    "        str1= str1+\" \"+ str(int(nbr[0]));\n",
    "        print(str(int(nbr[0])))\n",
    "            "
   ]
  },
  {
   "cell_type": "code",
   "execution_count": 24,
   "metadata": {},
   "outputs": [
    {
     "data": {
      "text/plain": [
       "True"
      ]
     },
     "execution_count": 24,
     "metadata": {},
     "output_type": "execute_result"
    }
   ],
   "source": [
    "cv2.namedWindow(\"Resulting Image with Rectangular ROIs\", cv2.WINDOW_NORMAL)\n",
    "cv2.imshow(\"Resulting Image with Rectangular ROIs\", im)\n",
    "cv2.waitKey()\n",
    "cv2.imwrite('pred.jpg',im)"
   ]
  },
  {
   "cell_type": "code",
   "execution_count": 25,
   "metadata": {},
   "outputs": [
    {
     "name": "stdout",
     "output_type": "stream",
     "text": [
      "  6 7 5 4 3 1 2\n"
     ]
    }
   ],
   "source": [
    "print(str1)\n",
    "file1 = open(\"op.txt\",\"w\") \n",
    "file1.write(str1)\n",
    "file1.close()"
   ]
  },
  {
   "cell_type": "code",
   "execution_count": 26,
   "metadata": {},
   "outputs": [],
   "source": [
    "from PIL import Image\n",
    "import numpy as np\n",
    "\n",
    "im1 = Image.open('1.jpg')\n",
    "im2 = Image.open('pred.jpg')\n",
    "\n",
    "Image.fromarray(np.hstack((np.array(im1)))).show()"
   ]
  },
  {
   "cell_type": "code",
   "execution_count": null,
   "metadata": {},
   "outputs": [],
   "source": []
  }
 ],
 "metadata": {
  "kernelspec": {
   "display_name": "Python 3",
   "language": "python",
   "name": "python3"
  },
  "language_info": {
   "codemirror_mode": {
    "name": "ipython",
    "version": 3
   },
   "file_extension": ".py",
   "mimetype": "text/x-python",
   "name": "python",
   "nbconvert_exporter": "python",
   "pygments_lexer": "ipython3",
   "version": "3.6.5"
  }
 },
 "nbformat": 4,
 "nbformat_minor": 2
}
